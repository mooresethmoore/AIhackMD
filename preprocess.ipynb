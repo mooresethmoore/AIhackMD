{
 "cells": [
  {
   "cell_type": "code",
   "execution_count": 1,
   "id": "71dd3b94",
   "metadata": {},
   "outputs": [],
   "source": [
    "import tensorflow as tf\n",
    "import numpy as np\n",
    "import os\n",
    "import h5py\n",
    "\n",
    "import sys\n",
    "\n",
    "import pandas as pd"
   ]
  },
  {
   "cell_type": "code",
   "execution_count": 2,
   "id": "28c7be96",
   "metadata": {},
   "outputs": [],
   "source": [
    "n_samples=1248\n",
    "n_testing=124\n",
    "\n"
   ]
  },
  {
   "cell_type": "code",
   "execution_count": 3,
   "id": "50735e5d",
   "metadata": {},
   "outputs": [],
   "source": [
    "f=h5py.File(\"data.h5\")"
   ]
  },
  {
   "cell_type": "code",
   "execution_count": 4,
   "id": "ff193b2f",
   "metadata": {},
   "outputs": [
    {
     "data": {
      "text/plain": [
       "<KeysViewHDF5 ['time0', 'time1', 'time2', 'time3', 'time4', 'time5', 'time6', 'time7', 'time8', 'time9']>"
      ]
     },
     "execution_count": 4,
     "metadata": {},
     "output_type": "execute_result"
    }
   ],
   "source": [
    "f.keys()\n"
   ]
  },
  {
   "cell_type": "code",
   "execution_count": 5,
   "id": "e187c84b",
   "metadata": {},
   "outputs": [
    {
     "data": {
      "text/plain": [
       "0.5"
      ]
     },
     "execution_count": 5,
     "metadata": {},
     "output_type": "execute_result"
    }
   ],
   "source": [
    "np.sum(f['time0'][0])/64**3"
   ]
  },
  {
   "cell_type": "code",
   "execution_count": 6,
   "id": "9578694e",
   "metadata": {},
   "outputs": [
    {
     "data": {
      "text/plain": [
       "1248"
      ]
     },
     "execution_count": 6,
     "metadata": {},
     "output_type": "execute_result"
    }
   ],
   "source": [
    "len(f['time9'])"
   ]
  },
  {
   "cell_type": "code",
   "execution_count": 7,
   "id": "52a518c3",
   "metadata": {},
   "outputs": [],
   "source": [
    "np.random.seed(42)\n",
    "testValNum=124 #testing and validation proportion, 10% each\n",
    "trainNum=len(f['time9'])-2*testValNum\n",
    "datID=np.arange(len(f['time9']))\n",
    "np.random.shuffle(datID)\n",
    "\n",
    "train={block:[f[\"time\"+str(t)][block] for t in range(10)] for block in datID[:trainNum]}\n",
    "trainKeys=list(train.keys())\n",
    "\n",
    "\n",
    "test={block:[f[\"time\"+str(t)][block] for t in range(10)] for block in datID[trainNum:trainNum+testValNum]}\n",
    "testKeys=list(test.keys())\n",
    "\n",
    "val={block:[f[\"time\"+str(t)][block] for t in range(10)] for block in datID[trainNum+testValNum:]}\n",
    "valKeys=list(val.keys())\n"
   ]
  },
  {
   "cell_type": "code",
   "execution_count": 8,
   "id": "ce167336",
   "metadata": {},
   "outputs": [
    {
     "data": {
      "text/plain": [
       "(64, 64, 64)"
      ]
     },
     "execution_count": 8,
     "metadata": {},
     "output_type": "execute_result"
    }
   ],
   "source": [
    "train[678][0].shape ### 678 is the data ID number (diBlock number) 0 is the time"
   ]
  },
  {
   "cell_type": "code",
   "execution_count": 9,
   "id": "3095bed3",
   "metadata": {},
   "outputs": [],
   "source": [
    "trainOut=h5py.File('diBlockTrain.hdf5','w')\n",
    "#dset=trainOut.create_dataset(\"blocks\",(10,64,64,64),compression=\"gzip\",compression_opts=9)\n",
    "dset=trainOut.create_dataset(\"blocks\",data=[train[k] for k in trainKeys],dtype=float,compression=\"gzip\",compression_opts=5)\n",
    "trainOut.close()"
   ]
  },
  {
   "cell_type": "code",
   "execution_count": 14,
   "id": "f1ad006c",
   "metadata": {},
   "outputs": [],
   "source": [
    "testOut=h5py.File('diBlockTest.hdf5','w')\n",
    "#dset=trainOut.create_dataset(\"blocks\",(10,64,64,64),compression=\"gzip\",compression_opts=9)\n",
    "dset=testOut.create_dataset(\"blocks\",data=[test[k] for k in testKeys],dtype=float,compression=\"gzip\",compression_opts=5)\n",
    "testOut.close()"
   ]
  },
  {
   "cell_type": "code",
   "execution_count": 15,
   "id": "d0e07df0",
   "metadata": {},
   "outputs": [],
   "source": [
    "valOut=h5py.File('diBlockVal.hdf5','w')\n",
    "#dset=trainOut.create_dataset(\"blocks\",(10,64,64,64),compression=\"gzip\",compression_opts=9)\n",
    "dset=valOut.create_dataset(\"blocks\",data=[val[k] for k in valKeys],dtype=float,compression=\"gzip\",compression_opts=5)\n",
    "valOut.close()"
   ]
  },
  {
   "cell_type": "code",
   "execution_count": null,
   "id": "b6262c5e",
   "metadata": {},
   "outputs": [],
   "source": []
  },
  {
   "cell_type": "code",
   "execution_count": 16,
   "id": "913ff9ad",
   "metadata": {},
   "outputs": [],
   "source": [
    "with open(\"trainID.txt\",\"w\") as keyFile:\n",
    "    for key in trainKeys:\n",
    "        keyFile.write(f\"{key}\\n\")\n",
    "\n",
    "with open(\"testID.txt\",\"w\") as keyFile:\n",
    "    for key in testKeys:\n",
    "        keyFile.write(f\"{key}\\n\")\n",
    "        \n",
    "        \n",
    "with open(\"valID.txt\",\"w\") as keyFile:\n",
    "    for key in valKeys:\n",
    "        keyFile.write(f\"{key}\\n\")"
   ]
  },
  {
   "cell_type": "code",
   "execution_count": 11,
   "id": "025d6cf9",
   "metadata": {},
   "outputs": [
    {
     "data": {
      "text/plain": [
       "numpy.float32"
      ]
     },
     "execution_count": 11,
     "metadata": {},
     "output_type": "execute_result"
    }
   ],
   "source": [
    "type(train[678][0][0][0][0])"
   ]
  }
 ],
 "metadata": {
  "kernelspec": {
   "display_name": "Python 3 (ipykernel)",
   "language": "python",
   "name": "python3"
  },
  "language_info": {
   "codemirror_mode": {
    "name": "ipython",
    "version": 3
   },
   "file_extension": ".py",
   "mimetype": "text/x-python",
   "name": "python",
   "nbconvert_exporter": "python",
   "pygments_lexer": "ipython3",
   "version": "3.9.6"
  }
 },
 "nbformat": 4,
 "nbformat_minor": 5
}
