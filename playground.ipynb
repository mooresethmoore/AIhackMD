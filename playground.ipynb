{
 "cells": [
  {
   "cell_type": "code",
   "execution_count": 36,
   "id": "8ca7dc26",
   "metadata": {},
   "outputs": [],
   "source": [
    "%gui qt"
   ]
  },
  {
   "cell_type": "code",
   "execution_count": null,
   "id": "71dd3b94",
   "metadata": {},
   "outputs": [],
   "source": [
    "import tensorflow as tf\n",
    "import numpy as np\n",
    "import os\n",
    "import h5py\n",
    "\n",
    "import sys\n",
    "\n",
    "import pandas as pd\n",
    "import scipy\n",
    "from scipy import ndimage\n",
    "\n",
    "import matplotlib.pyplot as plt\n",
    "import matplotlib.image as mpimg\n",
    "\n",
    "from skimage import feature\n",
    "\n",
    "import pickle\n",
    "from pyface.timer.api import Timer"
   ]
  },
  {
   "cell_type": "code",
   "execution_count": 42,
   "id": "5c0f4a9a",
   "metadata": {},
   "outputs": [
    {
     "name": "stdout",
     "output_type": "stream",
     "text": [
      "Notebook initialized with ipy backend.\n"
     ]
    }
   ],
   "source": [
    "import mayavi\n",
    "from mayavi import mlab\n",
    "mlab.init_notebook(width=500,height=500)"
   ]
  },
  {
   "cell_type": "code",
   "execution_count": 43,
   "id": "4d10ab48",
   "metadata": {},
   "outputs": [],
   "source": [
    "##TOPOLOGY\n",
    "import ripser as rips\n",
    "from ripser import ripser\n",
    "from persim import plot_diagrams"
   ]
  },
  {
   "cell_type": "code",
   "execution_count": 44,
   "id": "28c7be96",
   "metadata": {},
   "outputs": [],
   "source": [
    "n_samples=1248\n",
    "n_testing=124\n",
    "\n"
   ]
  },
  {
   "cell_type": "code",
   "execution_count": 45,
   "id": "0ae48375",
   "metadata": {},
   "outputs": [],
   "source": [
    "train=h5py.File(\"data/diBlockTrain.hdf5\")['blocks']"
   ]
  },
  {
   "cell_type": "code",
   "execution_count": 7,
   "id": "50735e5d",
   "metadata": {},
   "outputs": [],
   "source": [
    "#test=h5py.File(\"diBlockTest.hdf5\")"
   ]
  },
  {
   "cell_type": "code",
   "execution_count": 8,
   "id": "e187c84b",
   "metadata": {},
   "outputs": [
    {
     "data": {
      "text/plain": [
       "0.5000000031523939"
      ]
     },
     "execution_count": 8,
     "metadata": {},
     "output_type": "execute_result"
    }
   ],
   "source": [
    "np.sum(train[0][0])/64**3"
   ]
  },
  {
   "cell_type": "code",
   "execution_count": 9,
   "id": "025d6cf9",
   "metadata": {},
   "outputs": [
    {
     "data": {
      "text/plain": [
       "(64, 64, 64)"
      ]
     },
     "execution_count": 9,
     "metadata": {},
     "output_type": "execute_result"
    }
   ],
   "source": [
    "blockID=0\n",
    "time=7\n",
    "\n",
    "train[blockID][time].shape"
   ]
  },
  {
   "cell_type": "code",
   "execution_count": 10,
   "id": "ba6d4813",
   "metadata": {},
   "outputs": [],
   "source": [
    "times=train[0]\n",
    "dat=train[0][7]"
   ]
  },
  {
   "cell_type": "code",
   "execution_count": null,
   "id": "d5c044a5",
   "metadata": {},
   "outputs": [],
   "source": []
  },
  {
   "cell_type": "code",
   "execution_count": 11,
   "id": "4fa0a223",
   "metadata": {},
   "outputs": [],
   "source": [
    "\n",
    "\n",
    "#pickle.dump(train[:4],open(\"AIhackMD/dataExample.p\",\"wb\"))"
   ]
  },
  {
   "cell_type": "code",
   "execution_count": null,
   "id": "f78d8243",
   "metadata": {},
   "outputs": [],
   "source": []
  },
  {
   "cell_type": "code",
   "execution_count": 7,
   "id": "967550dd",
   "metadata": {},
   "outputs": [
    {
     "ename": "NameError",
     "evalue": "name 'dat' is not defined",
     "output_type": "error",
     "traceback": [
      "\u001b[1;31m---------------------------------------------------------------------------\u001b[0m",
      "\u001b[1;31mNameError\u001b[0m                                 Traceback (most recent call last)",
      "\u001b[1;32m~\\AppData\\Local\\Temp/ipykernel_13624/2707343365.py\u001b[0m in \u001b[0;36m<module>\u001b[1;34m\u001b[0m\n\u001b[1;32m----> 1\u001b[1;33m \u001b[0mdat\u001b[0m\u001b[1;33m[\u001b[0m\u001b[1;36m0\u001b[0m\u001b[1;33m,\u001b[0m\u001b[1;36m0\u001b[0m\u001b[1;33m,\u001b[0m\u001b[1;36m0\u001b[0m\u001b[1;33m]\u001b[0m\u001b[1;33m\u001b[0m\u001b[1;33m\u001b[0m\u001b[0m\n\u001b[0m",
      "\u001b[1;31mNameError\u001b[0m: name 'dat' is not defined"
     ]
    }
   ],
   "source": [
    "dat[0,0,0]"
   ]
  },
  {
   "cell_type": "code",
   "execution_count": 13,
   "id": "b46c5b45",
   "metadata": {},
   "outputs": [
    {
     "data": {
      "text/plain": [
       "<matplotlib.image.AxesImage at 0x2bbe6444880>"
      ]
     },
     "execution_count": 13,
     "metadata": {},
     "output_type": "execute_result"
    },
    {
     "data": {
      "image/png": "[encoded data removed]",
      "text/plain": [
       "<Figure size 432x288 with 1 Axes>"
      ]
     },
     "metadata": {
      "needs_background": "light"
     },
     "output_type": "display_data"
    }
   ],
   "source": [
    "plt.gray()\n",
    "plt.imshow(ndimage.sobel(times[0][32]))"
   ]
  },
  {
   "cell_type": "code",
   "execution_count": 14,
   "id": "e8940f10",
   "metadata": {},
   "outputs": [
    {
     "data": {
      "text/plain": [
       "<matplotlib.image.AxesImage at 0x2bbe6545760>"
      ]
     },
     "execution_count": 14,
     "metadata": {},
     "output_type": "execute_result"
    },
    {
     "data": {
      "image/png": "[encoded data removed]",
      "text/plain": [
       "<Figure size 432x288 with 1 Axes>"
      ]
     },
     "metadata": {
      "needs_background": "light"
     },
     "output_type": "display_data"
    }
   ],
   "source": [
    "plt.gray()\n",
    "plt.imshow(ndimage.sobel(times[7][32],mode=\"wrap\"))"
   ]
  },
  {
   "cell_type": "code",
   "execution_count": 70,
   "id": "5a9b2034",
   "metadata": {},
   "outputs": [
    {
     "data": {
      "text/plain": [
       "<matplotlib.image.AxesImage at 0x2bc5d206eb0>"
      ]
     },
     "execution_count": 70,
     "metadata": {},
     "output_type": "execute_result"
    },
    {
     "data": {
      "image/png": "[encoded data removed]",
      "text/plain": [
       "<Figure size 432x288 with 1 Axes>"
      ]
     },
     "metadata": {
      "needs_background": "light"
     },
     "output_type": "display_data"
    }
   ],
   "source": [
    "gFilt=ndimage.gaussian_filter(times[7][32],sigma=.25,mode=\"wrap\")\n",
    "plt.imshow(gFilt)"
   ]
  },
  {
   "cell_type": "code",
   "execution_count": 59,
   "id": "e3c935a5",
   "metadata": {},
   "outputs": [
    {
     "data": {
      "application/vnd.jupyter.widget-view+json": {
       "model_id": "3c8c905e312d41e0a22b37d8a9de4251",
       "version_major": 2,
       "version_minor": 0
      },
      "text/plain": [
       "Image(value=b'\\x89PNG\\r\\n\\x1a\\n\\x00\\x00\\x00\\rIHDR\\x00\\x00\\x01\\x90\\x00\\x00\\x01^\\x08\\x02\\x00\\x00\\x00$?\\xde_\\x00\\…"
      ]
     },
     "metadata": {},
     "output_type": "display_data"
    }
   ],
   "source": [
    "mlab.clf()\n",
    "mlab.imshow(ndimage.sobel(times[7][32]))"
   ]
  },
  {
   "cell_type": "code",
   "execution_count": 55,
   "id": "10b228bd",
   "metadata": {},
   "outputs": [],
   "source": [
    "@mlab.show\n",
    "@mlab.animate(delay=250)\n",
    "def animBlock(block,t=10):\n",
    "    mlab.clf()\n",
    "    for i in range(t):\n",
    "        mlab.contour3d(block[i],transparent=True)\n",
    "        yield\n",
    "        "
   ]
  },
  {
   "cell_type": "code",
   "execution_count": 76,
   "id": "f03c1175",
   "metadata": {},
   "outputs": [
    {
     "data": {
      "text/plain": [
       "<mayavi.tools.animator.Animator at 0x2bc5d216c20>"
      ]
     },
     "execution_count": 76,
     "metadata": {},
     "output_type": "execute_result"
    }
   ],
   "source": [
    "mlab.clf()\n",
    "fig=mlab.figure()\n",
    "#fig.scene.movie_maker.record=True\n",
    "animBlock(times)\n",
    "#Timer(250,next(animator)).start()\n",
    "#mlab.show()\n",
    "#mlab.close(fig)"
   ]
  },
  {
   "cell_type": "code",
   "execution_count": 54,
   "id": "b6817d8c",
   "metadata": {},
   "outputs": [],
   "source": [
    "next(animator)\n",
    "mlab.show()"
   ]
  },
  {
   "cell_type": "code",
   "execution_count": 80,
   "id": "b1cf3099",
   "metadata": {},
   "outputs": [
    {
     "data": {
      "application/vnd.jupyter.widget-view+json": {
       "model_id": "03243d63c30f4274808fa4ee8ebe9f45",
       "version_major": 2,
       "version_minor": 0
      },
      "text/plain": [
       "Image(value=b'\\x89PNG\\r\\n\\x1a\\n\\x00\\x00\\x00\\rIHDR\\x00\\x00\\x01\\x90\\x00\\x00\\x01^\\x08\\x02\\x00\\x00\\x00$?\\xde_\\x00\\…"
      ]
     },
     "metadata": {},
     "output_type": "display_data"
    }
   ],
   "source": [
    "mlab.clf()\n",
    "fig=mlab.figure()\n",
    "#mlab.axes(x_axis_visibility=True,y_axis_visibility=True,z_axis_visibility=True)\n",
    "mlab.points3d(times[7],transparent=True)\n",
    "mlab.axes()"
   ]
  },
  {
   "cell_type": "code",
   "execution_count": 81,
   "id": "487c0383",
   "metadata": {},
   "outputs": [
    {
     "data": {
      "application/vnd.jupyter.widget-view+json": {
       "model_id": "35e9ff8eda8a49adaacc4a8f260e8a29",
       "version_major": 2,
       "version_minor": 0
      },
      "text/plain": [
       "Image(value=b'\\x89PNG\\r\\n\\x1a\\n\\x00\\x00\\x00\\rIHDR\\x00\\x00\\x01\\x90\\x00\\x00\\x01^\\x08\\x02\\x00\\x00\\x00$?\\xde_\\x00\\…"
      ]
     },
     "metadata": {},
     "output_type": "display_data"
    }
   ],
   "source": [
    "mlab.clf()\n",
    "fig=mlab.figure()\n",
    "#mlab.axes(x_axis_visibility=True,y_axis_visibility=True,z_axis_visibility=True)\n",
    "mlab.contour3d(times[7],transparent=True)\n",
    "mlab.axes()\n"
   ]
  },
  {
   "cell_type": "code",
   "execution_count": 75,
   "id": "ad6ceced",
   "metadata": {},
   "outputs": [],
   "source": [
    "mlab.close(fig)"
   ]
  },
  {
   "cell_type": "code",
   "execution_count": 78,
   "id": "13cdae09",
   "metadata": {},
   "outputs": [
    {
     "name": "stdout",
     "output_type": "stream",
     "text": [
      "Rips(maxdim=1, thresh=inf, coeff=2, do_cocycles=False, n_perm = None, verbose=True)\n"
     ]
    }
   ],
   "source": [
    "rip=rips.Rips()"
   ]
  },
  {
   "cell_type": "code",
   "execution_count": 20,
   "id": "29eda9b2",
   "metadata": {},
   "outputs": [
    {
     "data": {
      "text/plain": [
       "{'maxdim': 1,\n",
       " 'thresh': inf,\n",
       " 'coeff': 2,\n",
       " 'do_cocycles': False,\n",
       " 'n_perm': None,\n",
       " 'verbose': True,\n",
       " 'dgms_': None,\n",
       " 'cocycles_': None,\n",
       " 'dperm2all_': None,\n",
       " 'metric_': None,\n",
       " 'num_edges_': None,\n",
       " 'idx_perm_': None,\n",
       " 'r_cover_': 0.0}"
      ]
     },
     "execution_count": 20,
     "metadata": {},
     "output_type": "execute_result"
    }
   ],
   "source": [
    "vars(rip)"
   ]
  },
  {
   "cell_type": "code",
   "execution_count": 12,
   "id": "291051ef",
   "metadata": {},
   "outputs": [
    {
     "data": {
      "text/plain": [
       "numpy.float64"
      ]
     },
     "execution_count": 12,
     "metadata": {},
     "output_type": "execute_result"
    }
   ],
   "source": [
    "type(dat[0,0,0])"
   ]
  },
  {
   "cell_type": "code",
   "execution_count": 16,
   "id": "183689ae",
   "metadata": {},
   "outputs": [
    {
     "name": "stderr",
     "output_type": "stream",
     "text": [
      "c:\\code\\git\\ripser.py\\ripser\\ripser.py:247: UserWarning: The input matrix is square, but the distance_matrix flag is off.  Did you mean to indicate that this was a distance matrix?\n",
      "  warnings.warn(\n"
     ]
    },
    {
     "ename": "ValueError",
     "evalue": "Found array with dim 3. check_pairwise_arrays expected <= 2.",
     "output_type": "error",
     "traceback": [
      "\u001b[1;31m---------------------------------------------------------------------------\u001b[0m",
      "\u001b[1;31mValueError\u001b[0m                                Traceback (most recent call last)",
      "\u001b[1;32m~\\AppData\\Local\\Temp/ipykernel_4108/912814038.py\u001b[0m in \u001b[0;36m<module>\u001b[1;34m\u001b[0m\n\u001b[1;32m----> 1\u001b[1;33m \u001b[0mriprun\u001b[0m\u001b[1;33m=\u001b[0m\u001b[0mripser\u001b[0m\u001b[1;33m(\u001b[0m\u001b[0mdat\u001b[0m\u001b[1;33m,\u001b[0m\u001b[0mdistance_matrix\u001b[0m\u001b[1;33m=\u001b[0m\u001b[1;32mFalse\u001b[0m\u001b[1;33m)\u001b[0m\u001b[1;33m\u001b[0m\u001b[1;33m\u001b[0m\u001b[0m\n\u001b[0m",
      "\u001b[1;32mc:\\code\\git\\ripser.py\\ripser\\ripser.py\u001b[0m in \u001b[0;36mripser\u001b[1;34m(X, maxdim, thresh, coeff, distance_matrix, do_cocycles, metric, n_perm)\u001b[0m\n\u001b[0;32m    284\u001b[0m             \u001b[0mdm\u001b[0m \u001b[1;33m=\u001b[0m \u001b[0mX\u001b[0m\u001b[1;33m\u001b[0m\u001b[1;33m\u001b[0m\u001b[0m\n\u001b[0;32m    285\u001b[0m         \u001b[1;32melse\u001b[0m\u001b[1;33m:\u001b[0m\u001b[1;33m\u001b[0m\u001b[1;33m\u001b[0m\u001b[0m\n\u001b[1;32m--> 286\u001b[1;33m             \u001b[0mdm\u001b[0m \u001b[1;33m=\u001b[0m \u001b[0mpairwise_distances\u001b[0m\u001b[1;33m(\u001b[0m\u001b[0mX\u001b[0m\u001b[1;33m,\u001b[0m \u001b[0mmetric\u001b[0m\u001b[1;33m=\u001b[0m\u001b[0mmetric\u001b[0m\u001b[1;33m)\u001b[0m\u001b[1;33m\u001b[0m\u001b[1;33m\u001b[0m\u001b[0m\n\u001b[0m\u001b[0;32m    287\u001b[0m         \u001b[0mdperm2all\u001b[0m \u001b[1;33m=\u001b[0m \u001b[0mdm\u001b[0m\u001b[1;33m\u001b[0m\u001b[1;33m\u001b[0m\u001b[0m\n\u001b[0;32m    288\u001b[0m \u001b[1;33m\u001b[0m\u001b[0m\n",
      "\u001b[1;32mc:\\users\\seth\\appdata\\local\\programs\\python\\python39\\lib\\site-packages\\sklearn\\metrics\\pairwise.py\u001b[0m in \u001b[0;36mpairwise_distances\u001b[1;34m(X, Y, metric, n_jobs, force_all_finite, **kwds)\u001b[0m\n\u001b[0;32m   1887\u001b[0m         \u001b[0mfunc\u001b[0m \u001b[1;33m=\u001b[0m \u001b[0mpartial\u001b[0m\u001b[1;33m(\u001b[0m\u001b[0mdistance\u001b[0m\u001b[1;33m.\u001b[0m\u001b[0mcdist\u001b[0m\u001b[1;33m,\u001b[0m \u001b[0mmetric\u001b[0m\u001b[1;33m=\u001b[0m\u001b[0mmetric\u001b[0m\u001b[1;33m,\u001b[0m \u001b[1;33m**\u001b[0m\u001b[0mkwds\u001b[0m\u001b[1;33m)\u001b[0m\u001b[1;33m\u001b[0m\u001b[1;33m\u001b[0m\u001b[0m\n\u001b[0;32m   1888\u001b[0m \u001b[1;33m\u001b[0m\u001b[0m\n\u001b[1;32m-> 1889\u001b[1;33m     \u001b[1;32mreturn\u001b[0m \u001b[0m_parallel_pairwise\u001b[0m\u001b[1;33m(\u001b[0m\u001b[0mX\u001b[0m\u001b[1;33m,\u001b[0m \u001b[0mY\u001b[0m\u001b[1;33m,\u001b[0m \u001b[0mfunc\u001b[0m\u001b[1;33m,\u001b[0m \u001b[0mn_jobs\u001b[0m\u001b[1;33m,\u001b[0m \u001b[1;33m**\u001b[0m\u001b[0mkwds\u001b[0m\u001b[1;33m)\u001b[0m\u001b[1;33m\u001b[0m\u001b[1;33m\u001b[0m\u001b[0m\n\u001b[0m\u001b[0;32m   1890\u001b[0m \u001b[1;33m\u001b[0m\u001b[0m\n\u001b[0;32m   1891\u001b[0m \u001b[1;33m\u001b[0m\u001b[0m\n",
      "\u001b[1;32mc:\\users\\seth\\appdata\\local\\programs\\python\\python39\\lib\\site-packages\\sklearn\\metrics\\pairwise.py\u001b[0m in \u001b[0;36m_parallel_pairwise\u001b[1;34m(X, Y, func, n_jobs, **kwds)\u001b[0m\n\u001b[0;32m   1428\u001b[0m \u001b[1;33m\u001b[0m\u001b[0m\n\u001b[0;32m   1429\u001b[0m     \u001b[1;32mif\u001b[0m \u001b[0meffective_n_jobs\u001b[0m\u001b[1;33m(\u001b[0m\u001b[0mn_jobs\u001b[0m\u001b[1;33m)\u001b[0m \u001b[1;33m==\u001b[0m \u001b[1;36m1\u001b[0m\u001b[1;33m:\u001b[0m\u001b[1;33m\u001b[0m\u001b[1;33m\u001b[0m\u001b[0m\n\u001b[1;32m-> 1430\u001b[1;33m         \u001b[1;32mreturn\u001b[0m \u001b[0mfunc\u001b[0m\u001b[1;33m(\u001b[0m\u001b[0mX\u001b[0m\u001b[1;33m,\u001b[0m \u001b[0mY\u001b[0m\u001b[1;33m,\u001b[0m \u001b[1;33m**\u001b[0m\u001b[0mkwds\u001b[0m\u001b[1;33m)\u001b[0m\u001b[1;33m\u001b[0m\u001b[1;33m\u001b[0m\u001b[0m\n\u001b[0m\u001b[0;32m   1431\u001b[0m \u001b[1;33m\u001b[0m\u001b[0m\n\u001b[0;32m   1432\u001b[0m     \u001b[1;31m# enforce a threading backend to prevent data communication overhead\u001b[0m\u001b[1;33m\u001b[0m\u001b[1;33m\u001b[0m\u001b[1;33m\u001b[0m\u001b[0m\n",
      "\u001b[1;32mc:\\users\\seth\\appdata\\local\\programs\\python\\python39\\lib\\site-packages\\sklearn\\metrics\\pairwise.py\u001b[0m in \u001b[0;36meuclidean_distances\u001b[1;34m(X, Y, Y_norm_squared, squared, X_norm_squared)\u001b[0m\n\u001b[0;32m    300\u001b[0m            [1.41421356]])\n\u001b[0;32m    301\u001b[0m     \"\"\"\n\u001b[1;32m--> 302\u001b[1;33m     \u001b[0mX\u001b[0m\u001b[1;33m,\u001b[0m \u001b[0mY\u001b[0m \u001b[1;33m=\u001b[0m \u001b[0mcheck_pairwise_arrays\u001b[0m\u001b[1;33m(\u001b[0m\u001b[0mX\u001b[0m\u001b[1;33m,\u001b[0m \u001b[0mY\u001b[0m\u001b[1;33m)\u001b[0m\u001b[1;33m\u001b[0m\u001b[1;33m\u001b[0m\u001b[0m\n\u001b[0m\u001b[0;32m    303\u001b[0m \u001b[1;33m\u001b[0m\u001b[0m\n\u001b[0;32m    304\u001b[0m     \u001b[1;32mif\u001b[0m \u001b[0mX_norm_squared\u001b[0m \u001b[1;32mis\u001b[0m \u001b[1;32mnot\u001b[0m \u001b[1;32mNone\u001b[0m\u001b[1;33m:\u001b[0m\u001b[1;33m\u001b[0m\u001b[1;33m\u001b[0m\u001b[0m\n",
      "\u001b[1;32mc:\\users\\seth\\appdata\\local\\programs\\python\\python39\\lib\\site-packages\\sklearn\\metrics\\pairwise.py\u001b[0m in \u001b[0;36mcheck_pairwise_arrays\u001b[1;34m(X, Y, precomputed, dtype, accept_sparse, force_all_finite, copy)\u001b[0m\n\u001b[0;32m    145\u001b[0m \u001b[1;33m\u001b[0m\u001b[0m\n\u001b[0;32m    146\u001b[0m     \u001b[1;32mif\u001b[0m \u001b[0mY\u001b[0m \u001b[1;32mis\u001b[0m \u001b[0mX\u001b[0m \u001b[1;32mor\u001b[0m \u001b[0mY\u001b[0m \u001b[1;32mis\u001b[0m \u001b[1;32mNone\u001b[0m\u001b[1;33m:\u001b[0m\u001b[1;33m\u001b[0m\u001b[1;33m\u001b[0m\u001b[0m\n\u001b[1;32m--> 147\u001b[1;33m         X = Y = check_array(\n\u001b[0m\u001b[0;32m    148\u001b[0m             \u001b[0mX\u001b[0m\u001b[1;33m,\u001b[0m\u001b[1;33m\u001b[0m\u001b[1;33m\u001b[0m\u001b[0m\n\u001b[0;32m    149\u001b[0m             \u001b[0maccept_sparse\u001b[0m\u001b[1;33m=\u001b[0m\u001b[0maccept_sparse\u001b[0m\u001b[1;33m,\u001b[0m\u001b[1;33m\u001b[0m\u001b[1;33m\u001b[0m\u001b[0m\n",
      "\u001b[1;32mc:\\users\\seth\\appdata\\local\\programs\\python\\python39\\lib\\site-packages\\sklearn\\utils\\validation.py\u001b[0m in \u001b[0;36mcheck_array\u001b[1;34m(array, accept_sparse, accept_large_sparse, dtype, order, copy, force_all_finite, ensure_2d, allow_nd, ensure_min_samples, ensure_min_features, estimator)\u001b[0m\n\u001b[0;32m    792\u001b[0m                 ) from e\n\u001b[0;32m    793\u001b[0m         \u001b[1;32mif\u001b[0m \u001b[1;32mnot\u001b[0m \u001b[0mallow_nd\u001b[0m \u001b[1;32mand\u001b[0m \u001b[0marray\u001b[0m\u001b[1;33m.\u001b[0m\u001b[0mndim\u001b[0m \u001b[1;33m>=\u001b[0m \u001b[1;36m3\u001b[0m\u001b[1;33m:\u001b[0m\u001b[1;33m\u001b[0m\u001b[1;33m\u001b[0m\u001b[0m\n\u001b[1;32m--> 794\u001b[1;33m             raise ValueError(\n\u001b[0m\u001b[0;32m    795\u001b[0m                 \u001b[1;34m\"Found array with dim %d. %s expected <= 2.\"\u001b[0m\u001b[1;33m\u001b[0m\u001b[1;33m\u001b[0m\u001b[0m\n\u001b[0;32m    796\u001b[0m                 \u001b[1;33m%\u001b[0m \u001b[1;33m(\u001b[0m\u001b[0marray\u001b[0m\u001b[1;33m.\u001b[0m\u001b[0mndim\u001b[0m\u001b[1;33m,\u001b[0m \u001b[0mestimator_name\u001b[0m\u001b[1;33m)\u001b[0m\u001b[1;33m\u001b[0m\u001b[1;33m\u001b[0m\u001b[0m\n",
      "\u001b[1;31mValueError\u001b[0m: Found array with dim 3. check_pairwise_arrays expected <= 2."
     ]
    }
   ],
   "source": [
    "#riprun=ripser(dat,distance_matrix=False)"
   ]
  },
  {
   "cell_type": "code",
   "execution_count": 69,
   "id": "cc58f303",
   "metadata": {},
   "outputs": [],
   "source": [
    "count=5\n",
    "eps=.1\n",
    "\n",
    "time1=3\n",
    "time2=8\n",
    "\n",
    "poly1=10\n",
    "poly2=100\n",
    "\n",
    "bSize=4"
   ]
  },
  {
   "cell_type": "code",
   "execution_count": 70,
   "id": "ee9d9521",
   "metadata": {},
   "outputs": [],
   "source": [
    "#Aaron's boxes: remember that boxes1[j] gives you the jth 5x5x5 block of block 11, time 3 that contains greater than count from the training data\n",
    "\n",
    "boxes1=[train[poly1][time1][x-bSize:x+bSize+1][y-bSize:y+bSize+1][z-bSize:z+bSize+1] for x,y,z in zip(range(0,64,bSize//2),range(0,64,bSize//2),range(0,64,bSize//2)) if sum([1 for i in train[poly1][t][x-bSize:x+bSize+1][y-bSize:y+bSize+1][z-bSize:z+bSize+1].flatten() if i>.5-eps and i < .5+eps]) >= count] \n",
    "\n",
    "\n",
    "#lower eps and raise count if data is too large to go through, or vice versa to increase\n",
    "\n"
   ]
  },
  {
   "cell_type": "code",
   "execution_count": 71,
   "id": "ab57c54d",
   "metadata": {},
   "outputs": [],
   "source": [
    "##split up cells to make it easy to rerun one at a time\n",
    "boxes2=[train[poly1][time2][x-bSize:x+bSize+1][y-bSize:y+bSize+1][z-bSize:z+bSize+1] for x,y,z in zip(range(0,64,bSize//2),range(0,64,bSize//2),range(0,64,bSize//2)) if sum([1 for i in train[poly1][t][x-bSize:x+bSize+1][y-bSize:y+bSize+1][z-bSize:z+bSize+1].flatten() if i>.5-eps and i < .5+eps]) >= count] \n"
   ]
  },
  {
   "cell_type": "code",
   "execution_count": 72,
   "id": "a9a175d9",
   "metadata": {},
   "outputs": [],
   "source": [
    "#Juhae's boxes\n",
    "\n",
    "boxes3=[train[poly2][time1][x-bSize:x+bSize+1][y-bSize:y+bSize+1][z-bSize:z+bSize+1] for x,y,z in zip(range(0,64,bSize//2),range(0,64,bSize//2),range(0,64,bSize//2)) if sum([1 for i in train[poly1][t][x-bSize:x+bSize+1][y-bSize:y+bSize+1][z-bSize:z+bSize+1].flatten() if i>.5-eps and i < .5+eps]) >= count] "
   ]
  },
  {
   "cell_type": "code",
   "execution_count": null,
   "id": "7a3ef016",
   "metadata": {},
   "outputs": [],
   "source": [
    "boxes4=[train[poly2][time2][x-bSize:x+bSize+1][y-bSize:y+bSize+1][z-bSize:z+bSize+1] for x,y,z in zip(range(0,64,bSize//2),range(0,64,bSize//2),range(0,64,bSize//2)) if sum([1 for i in train[poly1][t][x-bSize:x+bSize+1][y-bSize:y+bSize+1][z-bSize:z+bSize+1].flatten() if i>.5-eps and i < .5+eps]) >= count] "
   ]
  },
  {
   "cell_type": "code",
   "execution_count": 60,
   "id": "7c50e1e1",
   "metadata": {},
   "outputs": [
    {
     "data": {
      "text/plain": [
       "[array([[[0.448, 0.832, 0.896, ..., 0.   , 0.   , 0.064],\n",
       "         [0.256, 0.576, 0.832, ..., 0.064, 0.256, 0.256],\n",
       "         [0.512, 1.024, 0.896, ..., 0.   , 0.128, 0.512],\n",
       "         ...,\n",
       "         [0.704, 0.896, 0.832, ..., 0.256, 0.384, 0.768],\n",
       "         [0.512, 0.896, 0.704, ..., 0.   , 0.064, 0.192],\n",
       "         [0.32 , 0.96 , 0.256, ..., 0.   , 0.064, 0.32 ]],\n",
       " \n",
       "        [[0.448, 1.216, 0.832, ..., 0.   , 0.064, 0.   ],\n",
       "         [0.448, 0.448, 0.896, ..., 0.   , 0.192, 0.32 ],\n",
       "         [0.64 , 0.384, 0.768, ..., 0.192, 0.   , 0.64 ],\n",
       "         ...,\n",
       "         [1.216, 1.216, 0.768, ..., 0.192, 0.32 , 0.32 ],\n",
       "         [0.704, 0.768, 0.576, ..., 0.   , 0.   , 0.256],\n",
       "         [0.384, 0.96 , 1.216, ..., 0.   , 0.128, 0.192]],\n",
       " \n",
       "        [[0.704, 0.768, 1.088, ..., 0.   , 0.128, 0.384],\n",
       "         [0.704, 1.024, 1.152, ..., 0.064, 0.064, 0.192],\n",
       "         [0.768, 0.896, 1.152, ..., 0.064, 0.128, 0.064],\n",
       "         ...,\n",
       "         [1.152, 0.704, 0.96 , ..., 0.128, 0.   , 0.64 ],\n",
       "         [0.832, 0.896, 1.152, ..., 0.064, 0.064, 0.448],\n",
       "         [0.64 , 0.96 , 0.704, ..., 0.   , 0.192, 0.128]],\n",
       " \n",
       "        ...,\n",
       " \n",
       "        [[0.448, 0.384, 0.768, ..., 0.064, 0.   , 0.064],\n",
       "         [0.064, 0.32 , 0.448, ..., 0.   , 0.064, 0.128],\n",
       "         [0.   , 0.576, 0.96 , ..., 0.064, 0.064, 0.064],\n",
       "         ...,\n",
       "         [0.128, 0.384, 1.28 , ..., 0.064, 0.064, 0.   ],\n",
       "         [0.192, 0.448, 1.216, ..., 0.128, 0.   , 0.   ],\n",
       "         [0.192, 0.448, 0.576, ..., 0.064, 0.   , 0.064]],\n",
       " \n",
       "        [[0.128, 0.064, 0.704, ..., 0.   , 0.   , 0.   ],\n",
       "         [0.064, 0.192, 0.256, ..., 0.   , 0.   , 0.   ],\n",
       "         [0.192, 0.128, 0.64 , ..., 0.   , 0.   , 0.   ],\n",
       "         ...,\n",
       "         [0.   , 0.704, 0.704, ..., 0.128, 0.   , 0.   ],\n",
       "         [0.   , 0.192, 0.512, ..., 0.064, 0.064, 0.   ],\n",
       "         [0.064, 0.448, 0.896, ..., 0.   , 0.   , 0.   ]],\n",
       " \n",
       "        [[0.064, 0.192, 0.128, ..., 0.   , 0.   , 0.   ],\n",
       "         [0.128, 0.064, 0.256, ..., 0.   , 0.   , 0.   ],\n",
       "         [0.064, 0.32 , 0.192, ..., 0.   , 0.   , 0.   ],\n",
       "         ...,\n",
       "         [0.   , 0.128, 0.384, ..., 0.064, 0.064, 0.064],\n",
       "         [0.   , 0.064, 0.32 , ..., 0.192, 0.128, 0.064],\n",
       "         [0.064, 0.   , 0.128, ..., 0.128, 0.   , 0.   ]]], dtype=float32),\n",
       " array([[[0.064, 0.064, 0.064, ..., 1.28 , 0.704, 0.256],\n",
       "         [0.512, 0.064, 0.384, ..., 0.576, 1.28 , 0.832],\n",
       "         [0.512, 1.024, 0.512, ..., 0.512, 1.024, 0.384],\n",
       "         ...,\n",
       "         [0.064, 0.064, 0.   , ..., 0.704, 0.64 , 0.128],\n",
       "         [0.   , 0.   , 0.   , ..., 0.896, 0.512, 0.256],\n",
       "         [0.   , 0.128, 0.   , ..., 0.384, 0.192, 0.064]]], dtype=float32)]"
      ]
     },
     "execution_count": 60,
     "metadata": {},
     "output_type": "execute_result"
    }
   ],
   "source": []
  },
  {
   "cell_type": "code",
   "execution_count": 61,
   "id": "4a364395",
   "metadata": {},
   "outputs": [
    {
     "data": {
      "application/vnd.jupyter.widget-view+json": {
       "model_id": "cce3f10216104eccb86b1fbc8afe6b7a",
       "version_major": 2,
       "version_minor": 0
      },
      "text/plain": [
       "Image(value=b'\\x89PNG\\r\\n\\x1a\\n\\x00\\x00\\x00\\rIHDR\\x00\\x00\\x01\\x90\\x00\\x00\\x01^\\x08\\x02\\x00\\x00\\x00$?\\xde_\\x00\\…"
      ]
     },
     "metadata": {},
     "output_type": "display_data"
    }
   ],
   "source": [
    "mlab.clf()\n",
    "fig=mlab.figure()\n",
    "#mlab.axes(x_axis_visibility=True,y_axis_visibility=True,z_axis_visibility=True)\n",
    "mlab.points3d(boxes1[0],transparent=True)\n",
    "mlab.axes()"
   ]
  },
  {
   "cell_type": "code",
   "execution_count": null,
   "id": "0b85359f",
   "metadata": {},
   "outputs": [],
   "source": [
    "boxes=[boxes1,boxes2,boxes3,boxes4]\n",
    "\n",
    "for b in range(len(boxes)):\n",
    "    \n",
    "    pickle.dump(boxes[b],open(f\"AIhackMD/lilBox{b+1}_5Count1eps\",\"wb\"))"
   ]
  },
  {
   "cell_type": "code",
   "execution_count": null,
   "id": "2a6d48aa",
   "metadata": {},
   "outputs": [],
   "source": []
  }
 ],
 "metadata": {
  "kernelspec": {
   "display_name": "Python 3 (ipykernel)",
   "language": "python",
   "name": "python3"
  },
  "language_info": {
   "codemirror_mode": {
    "name": "ipython",
    "version": 3
   },
   "file_extension": ".py",
   "mimetype": "text/x-python",
   "name": "python",
   "nbconvert_exporter": "python",
   "pygments_lexer": "ipython3",
   "version": "3.9.6"
  }
 },
 "nbformat": 4,
 "nbformat_minor": 5
}
